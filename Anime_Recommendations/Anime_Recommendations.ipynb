{
  "cells": [
    {
      "cell_type": "code",
      "source": [
        "from google.colab import drive\n",
        "drive.mount('/content/drive/')"
      ],
      "metadata": {
        "colab": {
          "base_uri": "https://localhost:8080/"
        },
        "id": "kZMv2mrnlSXq",
        "outputId": "386653a5-ce63-4646-93a4-77479f9f410c"
      },
      "id": "kZMv2mrnlSXq",
      "execution_count": null,
      "outputs": [
        {
          "output_type": "stream",
          "name": "stdout",
          "text": [
            "Mounted at /content/drive/\n"
          ]
        }
      ]
    },
    {
      "cell_type": "code",
      "execution_count": null,
      "id": "1cfa524c",
      "metadata": {
        "id": "1cfa524c"
      },
      "outputs": [],
      "source": [
        "import numpy as np\n",
        "import pandas as pd\n",
        "from sklearn.model_selection import train_test_split\n",
        "from scipy import sparse"
      ]
    },
    {
      "cell_type": "markdown",
      "id": "c8ed8cdf",
      "metadata": {
        "id": "c8ed8cdf"
      },
      "source": [
        "Read raw data"
      ]
    },
    {
      "cell_type": "code",
      "execution_count": null,
      "id": "9871230a",
      "metadata": {
        "id": "9871230a"
      },
      "outputs": [],
      "source": [
        "anime_ratings_df = pd.read_csv(\"/content/drive/MyDrive/DSBA6156_APML/rating.csv\")"
      ]
    },
    {
      "cell_type": "code",
      "execution_count": null,
      "id": "6a7fbf3f",
      "metadata": {
        "id": "6a7fbf3f"
      },
      "outputs": [],
      "source": [
        "anime_ratings = anime_ratings_df.loc[anime_ratings_df.rating != -1].reset_index()[['user_id','anime_id','rating']]"
      ]
    },
    {
      "cell_type": "code",
      "execution_count": null,
      "id": "7b3ffc13",
      "metadata": {
        "id": "7b3ffc13"
      },
      "outputs": [],
      "source": [
        "def encode_column(column):\n",
        "    \"\"\" Encodes a pandas column with continous IDs\"\"\"\n",
        "    keys = column.unique()\n",
        "    key_to_id = {key:idx for idx,key in enumerate(keys)}\n",
        "    return key_to_id, np.array([key_to_id[x] for x in column]), len(keys)"
      ]
    },
    {
      "cell_type": "code",
      "execution_count": null,
      "id": "d4461405",
      "metadata": {
        "id": "d4461405"
      },
      "outputs": [],
      "source": [
        "def encode_df(anime_df):\n",
        "    \"\"\"Encodes rating data with continuous user and anime ids\"\"\"\n",
        "\n",
        "    anime_ids, anime_df['anime_id'], num_anime = encode_column(anime_df['anime_id'])\n",
        "    user_ids, anime_df['user_id'], num_users = encode_column(anime_df['user_id'])\n",
        "    return anime_df, num_users, num_anime, user_ids, anime_ids"
      ]
    },
    {
      "cell_type": "code",
      "execution_count": null,
      "id": "e9b1d7fe",
      "metadata": {
        "id": "e9b1d7fe"
      },
      "outputs": [],
      "source": [
        "anime_ratings = anime_ratings.reset_index()[['user_id', 'anime_id', 'rating']]"
      ]
    },
    {
      "cell_type": "code",
      "execution_count": null,
      "id": "3c291459",
      "metadata": {
        "id": "3c291459",
        "outputId": "9b2b74b6-d6a4-4e9a-c566-8662f183694e",
        "colab": {
          "base_uri": "https://localhost:8080/",
          "height": 242
        }
      },
      "outputs": [
        {
          "output_type": "stream",
          "name": "stdout",
          "text": [
            "Number of users : 69600\n",
            "Number of anime : 9927\n"
          ]
        },
        {
          "output_type": "execute_result",
          "data": {
            "text/plain": [
              "   user_id  anime_id  rating\n",
              "0        0         0      10\n",
              "1        0         1      10\n",
              "2        0         2      10\n",
              "3        0         3      10\n",
              "4        1         4      10"
            ],
            "text/html": [
              "\n",
              "  <div id=\"df-2091713a-feb3-4f70-92bc-5d6245f8bd5e\">\n",
              "    <div class=\"colab-df-container\">\n",
              "      <div>\n",
              "<style scoped>\n",
              "    .dataframe tbody tr th:only-of-type {\n",
              "        vertical-align: middle;\n",
              "    }\n",
              "\n",
              "    .dataframe tbody tr th {\n",
              "        vertical-align: top;\n",
              "    }\n",
              "\n",
              "    .dataframe thead th {\n",
              "        text-align: right;\n",
              "    }\n",
              "</style>\n",
              "<table border=\"1\" class=\"dataframe\">\n",
              "  <thead>\n",
              "    <tr style=\"text-align: right;\">\n",
              "      <th></th>\n",
              "      <th>user_id</th>\n",
              "      <th>anime_id</th>\n",
              "      <th>rating</th>\n",
              "    </tr>\n",
              "  </thead>\n",
              "  <tbody>\n",
              "    <tr>\n",
              "      <th>0</th>\n",
              "      <td>0</td>\n",
              "      <td>0</td>\n",
              "      <td>10</td>\n",
              "    </tr>\n",
              "    <tr>\n",
              "      <th>1</th>\n",
              "      <td>0</td>\n",
              "      <td>1</td>\n",
              "      <td>10</td>\n",
              "    </tr>\n",
              "    <tr>\n",
              "      <th>2</th>\n",
              "      <td>0</td>\n",
              "      <td>2</td>\n",
              "      <td>10</td>\n",
              "    </tr>\n",
              "    <tr>\n",
              "      <th>3</th>\n",
              "      <td>0</td>\n",
              "      <td>3</td>\n",
              "      <td>10</td>\n",
              "    </tr>\n",
              "    <tr>\n",
              "      <th>4</th>\n",
              "      <td>1</td>\n",
              "      <td>4</td>\n",
              "      <td>10</td>\n",
              "    </tr>\n",
              "  </tbody>\n",
              "</table>\n",
              "</div>\n",
              "      <button class=\"colab-df-convert\" onclick=\"convertToInteractive('df-2091713a-feb3-4f70-92bc-5d6245f8bd5e')\"\n",
              "              title=\"Convert this dataframe to an interactive table.\"\n",
              "              style=\"display:none;\">\n",
              "        \n",
              "  <svg xmlns=\"http://www.w3.org/2000/svg\" height=\"24px\"viewBox=\"0 0 24 24\"\n",
              "       width=\"24px\">\n",
              "    <path d=\"M0 0h24v24H0V0z\" fill=\"none\"/>\n",
              "    <path d=\"M18.56 5.44l.94 2.06.94-2.06 2.06-.94-2.06-.94-.94-2.06-.94 2.06-2.06.94zm-11 1L8.5 8.5l.94-2.06 2.06-.94-2.06-.94L8.5 2.5l-.94 2.06-2.06.94zm10 10l.94 2.06.94-2.06 2.06-.94-2.06-.94-.94-2.06-.94 2.06-2.06.94z\"/><path d=\"M17.41 7.96l-1.37-1.37c-.4-.4-.92-.59-1.43-.59-.52 0-1.04.2-1.43.59L10.3 9.45l-7.72 7.72c-.78.78-.78 2.05 0 2.83L4 21.41c.39.39.9.59 1.41.59.51 0 1.02-.2 1.41-.59l7.78-7.78 2.81-2.81c.8-.78.8-2.07 0-2.86zM5.41 20L4 18.59l7.72-7.72 1.47 1.35L5.41 20z\"/>\n",
              "  </svg>\n",
              "      </button>\n",
              "      \n",
              "  <style>\n",
              "    .colab-df-container {\n",
              "      display:flex;\n",
              "      flex-wrap:wrap;\n",
              "      gap: 12px;\n",
              "    }\n",
              "\n",
              "    .colab-df-convert {\n",
              "      background-color: #E8F0FE;\n",
              "      border: none;\n",
              "      border-radius: 50%;\n",
              "      cursor: pointer;\n",
              "      display: none;\n",
              "      fill: #1967D2;\n",
              "      height: 32px;\n",
              "      padding: 0 0 0 0;\n",
              "      width: 32px;\n",
              "    }\n",
              "\n",
              "    .colab-df-convert:hover {\n",
              "      background-color: #E2EBFA;\n",
              "      box-shadow: 0px 1px 2px rgba(60, 64, 67, 0.3), 0px 1px 3px 1px rgba(60, 64, 67, 0.15);\n",
              "      fill: #174EA6;\n",
              "    }\n",
              "\n",
              "    [theme=dark] .colab-df-convert {\n",
              "      background-color: #3B4455;\n",
              "      fill: #D2E3FC;\n",
              "    }\n",
              "\n",
              "    [theme=dark] .colab-df-convert:hover {\n",
              "      background-color: #434B5C;\n",
              "      box-shadow: 0px 1px 3px 1px rgba(0, 0, 0, 0.15);\n",
              "      filter: drop-shadow(0px 1px 2px rgba(0, 0, 0, 0.3));\n",
              "      fill: #FFFFFF;\n",
              "    }\n",
              "  </style>\n",
              "\n",
              "      <script>\n",
              "        const buttonEl =\n",
              "          document.querySelector('#df-2091713a-feb3-4f70-92bc-5d6245f8bd5e button.colab-df-convert');\n",
              "        buttonEl.style.display =\n",
              "          google.colab.kernel.accessAllowed ? 'block' : 'none';\n",
              "\n",
              "        async function convertToInteractive(key) {\n",
              "          const element = document.querySelector('#df-2091713a-feb3-4f70-92bc-5d6245f8bd5e');\n",
              "          const dataTable =\n",
              "            await google.colab.kernel.invokeFunction('convertToInteractive',\n",
              "                                                     [key], {});\n",
              "          if (!dataTable) return;\n",
              "\n",
              "          const docLinkHtml = 'Like what you see? Visit the ' +\n",
              "            '<a target=\"_blank\" href=https://colab.research.google.com/notebooks/data_table.ipynb>data table notebook</a>'\n",
              "            + ' to learn more about interactive tables.';\n",
              "          element.innerHTML = '';\n",
              "          dataTable['output_type'] = 'display_data';\n",
              "          await google.colab.output.renderOutput(dataTable, element);\n",
              "          const docLink = document.createElement('div');\n",
              "          docLink.innerHTML = docLinkHtml;\n",
              "          element.appendChild(docLink);\n",
              "        }\n",
              "      </script>\n",
              "    </div>\n",
              "  </div>\n",
              "  "
            ]
          },
          "metadata": {},
          "execution_count": 12
        }
      ],
      "source": [
        "anime_df, num_users, num_anime, user_ids, anime_ids = encode_df(anime_ratings)\n",
        "print(\"Number of users :\", num_users)\n",
        "print(\"Number of anime :\", num_anime)\n",
        "anime_df.head()"
      ]
    },
    {
      "cell_type": "code",
      "execution_count": null,
      "id": "9582174c",
      "metadata": {
        "id": "9582174c",
        "outputId": "a8461ca1-0b1d-4790-8646-c67ba3bc1d63",
        "colab": {
          "base_uri": "https://localhost:8080/"
        }
      },
      "outputs": [
        {
          "output_type": "execute_result",
          "data": {
            "text/plain": [
              "(6337241, 3)"
            ]
          },
          "metadata": {},
          "execution_count": 13
        }
      ],
      "source": [
        "anime_df.shape"
      ]
    },
    {
      "cell_type": "code",
      "execution_count": null,
      "id": "f5f9d3a4",
      "metadata": {
        "id": "f5f9d3a4"
      },
      "outputs": [],
      "source": [
        "def create_sparse_matrix(df, rows, cols, column_name=\"rating\"):\n",
        "    \"\"\" Returns a sparse utility matrix\"\"\"\n",
        "    return sparse.csc_matrix((df[column_name].values,(df['user_id'].values, df['anime_id'].values)),shape=(rows, cols))"
      ]
    },
    {
      "cell_type": "code",
      "execution_count": null,
      "id": "0de0312d",
      "metadata": {
        "id": "0de0312d"
      },
      "outputs": [],
      "source": [
        "anime_df, num_users, num_anime, user_ids, anime_ids = encode_df(anime_ratings)\n",
        "Y = create_sparse_matrix(anime_df, num_users, num_anime)"
      ]
    },
    {
      "cell_type": "code",
      "execution_count": null,
      "id": "44e6813a",
      "metadata": {
        "id": "44e6813a",
        "outputId": "5e4dbca2-9db0-4cfe-edda-f0f819f8fe1b",
        "colab": {
          "base_uri": "https://localhost:8080/"
        }
      },
      "outputs": [
        {
          "output_type": "execute_result",
          "data": {
            "text/plain": [
              "(69600, 9927)"
            ]
          },
          "metadata": {},
          "execution_count": 16
        }
      ],
      "source": [
        "Y.shape"
      ]
    },
    {
      "cell_type": "code",
      "execution_count": null,
      "id": "ecfb3beb",
      "metadata": {
        "id": "ecfb3beb",
        "outputId": "31ee7447-ab5f-4231-fe82-1b6f472e14fd",
        "colab": {
          "base_uri": "https://localhost:8080/"
        }
      },
      "outputs": [
        {
          "output_type": "execute_result",
          "data": {
            "text/plain": [
              "matrix([[10, 10, 10, ...,  0,  0,  0],\n",
              "        [ 0,  0,  0, ...,  0,  0,  0],\n",
              "        [ 6,  0,  9, ...,  0,  0,  0],\n",
              "        ...,\n",
              "        [ 0,  0,  0, ...,  0,  0,  0],\n",
              "        [ 9,  0,  9, ...,  0,  0,  0],\n",
              "        [ 9,  0,  0, ...,  0,  0,  0]])"
            ]
          },
          "metadata": {},
          "execution_count": 17
        }
      ],
      "source": [
        "Y.todense()"
      ]
    },
    {
      "cell_type": "markdown",
      "id": "c6e0368c",
      "metadata": {
        "id": "c6e0368c"
      },
      "source": [
        "## Dimension reduction using Non-Negative Matrix Factorization (NMF)"
      ]
    },
    {
      "cell_type": "code",
      "execution_count": null,
      "id": "f1025589",
      "metadata": {
        "id": "f1025589",
        "outputId": "e6c05799-8459-4c82-f81a-dea7acf6cec5",
        "colab": {
          "base_uri": "https://localhost:8080/"
        }
      },
      "outputs": [
        {
          "output_type": "stream",
          "name": "stderr",
          "text": [
            "/usr/local/lib/python3.7/dist-packages/sklearn/decomposition/_nmf.py:1641: ConvergenceWarning: Maximum number of iterations 200 reached. Increase it to improve convergence.\n",
            "  ConvergenceWarning,\n"
          ]
        }
      ],
      "source": [
        "from sklearn.decomposition import NMF\n",
        "model = NMF(n_components=100, init='random', random_state=0)\n",
        "W = model.fit_transform(Y)\n",
        "H = model.components_"
      ]
    },
    {
      "cell_type": "code",
      "execution_count": null,
      "id": "364cc07b",
      "metadata": {
        "id": "364cc07b",
        "outputId": "d2907d05-4a20-4fca-dc17-7c51da5a79ec",
        "colab": {
          "base_uri": "https://localhost:8080/"
        }
      },
      "outputs": [
        {
          "output_type": "execute_result",
          "data": {
            "text/plain": [
              "(69600, 100)"
            ]
          },
          "metadata": {},
          "execution_count": 19
        }
      ],
      "source": [
        "W.shape"
      ]
    },
    {
      "cell_type": "code",
      "execution_count": null,
      "id": "a877b5fe",
      "metadata": {
        "id": "a877b5fe",
        "outputId": "7d25f87a-dfcc-4a68-9e9d-f225a72e7088",
        "colab": {
          "base_uri": "https://localhost:8080/"
        }
      },
      "outputs": [
        {
          "output_type": "execute_result",
          "data": {
            "text/plain": [
              "(100, 9927)"
            ]
          },
          "metadata": {},
          "execution_count": 20
        }
      ],
      "source": [
        "H.shape"
      ]
    },
    {
      "cell_type": "markdown",
      "id": "4c67dfdb",
      "metadata": {
        "id": "4c67dfdb"
      },
      "source": [
        "## Supervised learning"
      ]
    },
    {
      "cell_type": "code",
      "execution_count": null,
      "id": "fa221cae",
      "metadata": {
        "id": "fa221cae"
      },
      "outputs": [],
      "source": [
        "df = anime_df.sample(n=10000, random_state=1)"
      ]
    },
    {
      "cell_type": "code",
      "execution_count": null,
      "id": "20beb753",
      "metadata": {
        "id": "20beb753"
      },
      "outputs": [],
      "source": [
        "train_idx, test_idx = train_test_split(df, test_size=0.2)"
      ]
    },
    {
      "cell_type": "code",
      "execution_count": null,
      "id": "c3becdc6",
      "metadata": {
        "id": "c3becdc6"
      },
      "outputs": [],
      "source": [
        "def create_features(vec):\n",
        "    user, item = vec\n",
        "    X = np.concatenate([W[user,:],H[:,item]])\n",
        "    return pd.Series(X)"
      ]
    },
    {
      "cell_type": "code",
      "execution_count": null,
      "id": "7f289b8c",
      "metadata": {
        "id": "7f289b8c"
      },
      "outputs": [],
      "source": [
        "train_X, train_y = train_idx.apply(lambda x: create_features(x[['user_id','anime_id']]), axis = 1), train_idx['rating']"
      ]
    },
    {
      "cell_type": "code",
      "execution_count": null,
      "id": "f2467ec8",
      "metadata": {
        "id": "f2467ec8"
      },
      "outputs": [],
      "source": [
        "test_X, test_y = test_idx.apply(lambda x: create_features(x[['user_id','anime_id']]), axis = 1), test_idx['rating']"
      ]
    },
    {
      "cell_type": "code",
      "execution_count": null,
      "id": "6f52f6ea",
      "metadata": {
        "id": "6f52f6ea",
        "outputId": "561f4ece-0030-4d34-cfa7-d863f2eef021",
        "colab": {
          "base_uri": "https://localhost:8080/"
        }
      },
      "outputs": [
        {
          "output_type": "execute_result",
          "data": {
            "text/plain": [
              "(8000, 200)"
            ]
          },
          "metadata": {},
          "execution_count": 26
        }
      ],
      "source": [
        "train_X.shape"
      ]
    },
    {
      "cell_type": "code",
      "execution_count": null,
      "id": "079f1685",
      "metadata": {
        "id": "079f1685",
        "outputId": "efe87d6f-94dc-4a4e-e6d8-f501d2ad0835",
        "colab": {
          "base_uri": "https://localhost:8080/"
        }
      },
      "outputs": [
        {
          "output_type": "execute_result",
          "data": {
            "text/plain": [
              "(8000,)"
            ]
          },
          "metadata": {},
          "execution_count": 27
        }
      ],
      "source": [
        "train_y.shape"
      ]
    },
    {
      "cell_type": "markdown",
      "id": "3b1c1247",
      "metadata": {
        "id": "3b1c1247"
      },
      "source": [
        "### testing"
      ]
    },
    {
      "cell_type": "code",
      "execution_count": null,
      "id": "b3aed0f9",
      "metadata": {
        "id": "b3aed0f9"
      },
      "outputs": [],
      "source": [
        "from sklearn.linear_model import LinearRegression\n",
        "from sklearn.model_selection import GridSearchCV"
      ]
    },
    {
      "cell_type": "code",
      "execution_count": null,
      "id": "0a7776c1",
      "metadata": {
        "id": "0a7776c1"
      },
      "outputs": [],
      "source": [
        "param_grid = {}"
      ]
    },
    {
      "cell_type": "code",
      "source": [
        "grid= GridSearchCV(LinearRegression(), param_grid, return_train_score=True)\n",
        "grid.fit(train_X, train_y)"
      ],
      "metadata": {
        "colab": {
          "base_uri": "https://localhost:8080/"
        },
        "id": "nYQokMkgsj0e",
        "outputId": "73cdb47a-4f40-4367-f6e4-02ec765bff00"
      },
      "id": "nYQokMkgsj0e",
      "execution_count": null,
      "outputs": [
        {
          "output_type": "execute_result",
          "data": {
            "text/plain": [
              "GridSearchCV(estimator=LinearRegression(), param_grid={},\n",
              "             return_train_score=True)"
            ]
          },
          "metadata": {},
          "execution_count": 32
        }
      ]
    },
    {
      "cell_type": "code",
      "source": [
        "from sklearn.model_selection import cross_validate\n",
        "cross_validate(LinearRegression(), train_X, train_y)"
      ],
      "metadata": {
        "colab": {
          "base_uri": "https://localhost:8080/"
        },
        "id": "ZpISuKPYtPzO",
        "outputId": "cdcfb053-9580-4b6a-fbd6-81c6e74ae8db"
      },
      "id": "ZpISuKPYtPzO",
      "execution_count": null,
      "outputs": [
        {
          "output_type": "execute_result",
          "data": {
            "text/plain": [
              "{'fit_time': array([0.09396076, 0.09514666, 0.09512186, 0.13084769, 0.10038042]),\n",
              " 'score_time': array([0.00554347, 0.00544   , 0.00553393, 0.00554156, 0.00565791]),\n",
              " 'test_score': array([0.13625998, 0.13040698, 0.10848343, 0.1672209 , 0.14247805])}"
            ]
          },
          "metadata": {},
          "execution_count": 33
        }
      ]
    },
    {
      "cell_type": "code",
      "source": [
        "from sklearn.ensemble import GradientBoostingRegressor\n",
        "cross_validate(GradientBoostingRegressor(), train_X, train_y)"
      ],
      "metadata": {
        "colab": {
          "base_uri": "https://localhost:8080/"
        },
        "id": "6UWZDKYNt8Yv",
        "outputId": "8ebe16a7-3e94-4717-cf2c-254b51c4f1a6"
      },
      "id": "6UWZDKYNt8Yv",
      "execution_count": null,
      "outputs": [
        {
          "output_type": "execute_result",
          "data": {
            "text/plain": [
              "{'fit_time': array([15.80497217, 14.37457705, 15.71427941, 14.45271063, 14.50945187]),\n",
              " 'score_time': array([0.00859857, 0.00780368, 0.00783777, 0.0083952 , 0.00809216]),\n",
              " 'test_score': array([0.17513367, 0.17699808, 0.17412796, 0.18901858, 0.20147237])}"
            ]
          },
          "metadata": {},
          "execution_count": 35
        }
      ]
    },
    {
      "cell_type": "code",
      "source": [
        "grid.best_score_"
      ],
      "metadata": {
        "colab": {
          "base_uri": "https://localhost:8080/"
        },
        "id": "Er05BSABvTHp",
        "outputId": "54052ecc-ba91-4aa2-a0e3-018a78cdb782"
      },
      "id": "Er05BSABvTHp",
      "execution_count": null,
      "outputs": [
        {
          "output_type": "execute_result",
          "data": {
            "text/plain": [
              "0.1369698677752092"
            ]
          },
          "metadata": {},
          "execution_count": 36
        }
      ]
    },
    {
      "cell_type": "code",
      "source": [
        "grid.score(test_X, test_y)"
      ],
      "metadata": {
        "colab": {
          "base_uri": "https://localhost:8080/"
        },
        "id": "yPpgHwAkvX2-",
        "outputId": "799dbb30-f717-4941-f7bb-d0af1a1ee7da"
      },
      "id": "yPpgHwAkvX2-",
      "execution_count": null,
      "outputs": [
        {
          "output_type": "execute_result",
          "data": {
            "text/plain": [
              "0.11798584277340451"
            ]
          },
          "metadata": {},
          "execution_count": 37
        }
      ]
    },
    {
      "cell_type": "markdown",
      "id": "543a32fb",
      "metadata": {
        "id": "543a32fb"
      },
      "source": [
        "## Unsupervised learning"
      ]
    },
    {
      "cell_type": "markdown",
      "id": "10ed15bc",
      "metadata": {
        "id": "10ed15bc"
      },
      "source": [
        "### k-means model to predict ratings"
      ]
    },
    {
      "cell_type": "markdown",
      "id": "d3402451",
      "metadata": {
        "id": "d3402451"
      },
      "source": [
        "### training"
      ]
    },
    {
      "cell_type": "code",
      "source": [
        "from sklearn.cluster import KMeans\n",
        "Kn =KMeans(n_clusters=5, random_state=3)\n",
        "Kn.fit(train_X)"
      ],
      "metadata": {
        "colab": {
          "base_uri": "https://localhost:8080/"
        },
        "id": "7vUgrXVhvvpn",
        "outputId": "8fddce15-f0d2-484a-f3b9-9fe5000921fc"
      },
      "id": "7vUgrXVhvvpn",
      "execution_count": null,
      "outputs": [
        {
          "output_type": "execute_result",
          "data": {
            "text/plain": [
              "KMeans(n_clusters=5, random_state=3)"
            ]
          },
          "metadata": {},
          "execution_count": 39
        }
      ]
    },
    {
      "cell_type": "code",
      "source": [
        "Kn.labels_"
      ],
      "metadata": {
        "colab": {
          "base_uri": "https://localhost:8080/"
        },
        "id": "k3sKTCecxCl5",
        "outputId": "ebe7e945-35f5-4acb-9228-a96e44e0c261"
      },
      "id": "k3sKTCecxCl5",
      "execution_count": null,
      "outputs": [
        {
          "output_type": "execute_result",
          "data": {
            "text/plain": [
              "array([0, 3, 0, ..., 0, 0, 0], dtype=int32)"
            ]
          },
          "metadata": {},
          "execution_count": 40
        }
      ]
    },
    {
      "cell_type": "code",
      "source": [
        "import numpy as np\n",
        "average = []\n",
        "for i in range(5):\n",
        "  print(np.mean(train_y[Kn.labels_ == i]))\n",
        "  average.append(np.mean(train_y[Kn.labels_ == i]))"
      ],
      "metadata": {
        "colab": {
          "base_uri": "https://localhost:8080/"
        },
        "id": "VvifcTXOxPDi",
        "outputId": "d197c822-ecea-4c41-cad5-af275940ae88"
      },
      "id": "VvifcTXOxPDi",
      "execution_count": null,
      "outputs": [
        {
          "output_type": "stream",
          "name": "stdout",
          "text": [
            "7.851095685313734\n",
            "8.972222222222221\n",
            "7.823529411764706\n",
            "7.292418772563177\n",
            "8.891304347826088\n"
          ]
        }
      ]
    },
    {
      "cell_type": "code",
      "source": [
        "inertia = []\n",
        "for k in range(5,100,5):\n",
        "  Kn = KMeans(n_clusters=k,random_state=0)\n",
        "  Kn.fit(train_X)\n",
        "  print(Kn.inertia_)\n",
        "  inertia.append(Kn.inertia_)"
      ],
      "metadata": {
        "colab": {
          "base_uri": "https://localhost:8080/"
        },
        "id": "CDfcNy0O7GqA",
        "outputId": "7a82512f-e3a0-473b-dd7c-6b20ada8d946"
      },
      "id": "CDfcNy0O7GqA",
      "execution_count": null,
      "outputs": [
        {
          "output_type": "stream",
          "name": "stdout",
          "text": [
            "4821482.567510775\n",
            "3671470.492982785\n",
            "3022742.698029956\n",
            "2550606.40183274\n",
            "2092103.5412925263\n",
            "1802246.253646384\n",
            "1567356.8495523094\n",
            "1384693.4469288932\n",
            "1205208.5740367633\n",
            "1073069.6532602403\n",
            "952149.2580535006\n",
            "874429.2877298851\n",
            "810491.8204194647\n",
            "759424.6249498797\n",
            "709985.974070684\n",
            "666357.0516342649\n",
            "628403.871463646\n",
            "601123.6623440403\n",
            "567509.8766342348\n"
          ]
        }
      ]
    },
    {
      "cell_type": "markdown",
      "id": "f0457035",
      "metadata": {
        "id": "f0457035"
      },
      "source": [
        "### testing"
      ]
    },
    {
      "cell_type": "code",
      "execution_count": null,
      "id": "8b36bb95",
      "metadata": {
        "id": "8b36bb95",
        "colab": {
          "base_uri": "https://localhost:8080/",
          "height": 294
        },
        "outputId": "b1b515cb-04ae-483d-f317-3037f44212f6"
      },
      "outputs": [
        {
          "output_type": "execute_result",
          "data": {
            "text/plain": [
              "[<matplotlib.lines.Line2D at 0x7fe5e090a650>]"
            ]
          },
          "metadata": {},
          "execution_count": 53
        },
        {
          "output_type": "display_data",
          "data": {
            "text/plain": [
              "<Figure size 432x288 with 1 Axes>"
            ],
            "image/png": "[encoded data removed]"
          },
          "metadata": {
            "needs_background": "light"
          }
        }
      ],
      "source": [
        "import matplotlib.pyplot as plt\n",
        "plt.plot(range(5,100,5),inertia)"
      ]
    },
    {
      "cell_type": "code",
      "source": [
        "Kn.predict(test_X).max()"
      ],
      "metadata": {
        "colab": {
          "base_uri": "https://localhost:8080/"
        },
        "id": "LAnGtulvGHu6",
        "outputId": "9b3b6928-4b8a-4289-f5a6-0967cd0186aa"
      },
      "id": "LAnGtulvGHu6",
      "execution_count": null,
      "outputs": [
        {
          "output_type": "execute_result",
          "data": {
            "text/plain": [
              "94"
            ]
          },
          "metadata": {},
          "execution_count": 54
        }
      ]
    },
    {
      "cell_type": "markdown",
      "id": "76a02117",
      "metadata": {
        "id": "76a02117"
      },
      "source": [
        "### Test on unknown data. Predict the rating of user_id == 1 on anime_id==1."
      ]
    },
    {
      "cell_type": "code",
      "execution_count": null,
      "id": "4622986d",
      "metadata": {
        "id": "4622986d"
      },
      "outputs": [],
      "source": [
        "pred = []\n",
        "for i in Kn.predict(test_X):\n",
        "  pred.append(average[1])"
      ]
    },
    {
      "cell_type": "code",
      "source": [
        "from sklearn.metrics import r2_score\n",
        "r2_score(test_y,pred)"
      ],
      "metadata": {
        "colab": {
          "base_uri": "https://localhost:8080/"
        },
        "id": "iC_1WCS-JFdH",
        "outputId": "7b373d43-5c0e-41d3-c64b-f1295317b8b4"
      },
      "id": "iC_1WCS-JFdH",
      "execution_count": null,
      "outputs": [
        {
          "output_type": "execute_result",
          "data": {
            "text/plain": [
              "-0.5288699224700582"
            ]
          },
          "metadata": {},
          "execution_count": 61
        }
      ]
    },
    {
      "cell_type": "markdown",
      "id": "cd59cbdd",
      "metadata": {
        "id": "cd59cbdd"
      },
      "source": [
        "###  Visualization"
      ]
    },
    {
      "cell_type": "code",
      "execution_count": null,
      "id": "98cc69e7",
      "metadata": {
        "id": "98cc69e7",
        "colab": {
          "base_uri": "https://localhost:8080/",
          "height": 378
        },
        "outputId": "1f0dbbf1-91b1-4277-8897-71ceb951793f"
      },
      "outputs": [
        {
          "output_type": "stream",
          "name": "stderr",
          "text": [
            "/usr/local/lib/python3.7/dist-packages/sklearn/manifold/_t_sne.py:783: FutureWarning: The default initialization in TSNE will change from 'random' to 'pca' in 1.2.\n",
            "  FutureWarning,\n",
            "/usr/local/lib/python3.7/dist-packages/sklearn/manifold/_t_sne.py:793: FutureWarning: The default learning rate in TSNE will change from 200.0 to 'auto' in 1.2.\n",
            "  FutureWarning,\n"
          ]
        },
        {
          "output_type": "execute_result",
          "data": {
            "text/plain": [
              "([], <a list of 0 Text major ticklabel objects>)"
            ]
          },
          "metadata": {},
          "execution_count": 62
        },
        {
          "output_type": "display_data",
          "data": {
            "text/plain": [
              "<Figure size 432x288 with 1 Axes>"
            ],
            "image/png": "[encoded data removed]"
          },
          "metadata": {}
        }
      ],
      "source": [
        "import matplotlib.pyplot as plt\n",
        "from sklearn.manifold import TSNE\n",
        "train_X_tsne = TSNE().fit_transform(train_X)\n",
        "plt.scatter(train_X_tsne[:, 0],train_X_tsne[:, 1],c=train_y)\n",
        "plt.title(\"t-SNE embedding of digits\")\n",
        "plt.xticks(())\n",
        "plt.yticks(())\n"
      ]
    },
    {
      "cell_type": "code",
      "execution_count": null,
      "id": "7d4cc9df",
      "metadata": {
        "id": "7d4cc9df",
        "colab": {
          "base_uri": "https://localhost:8080/"
        },
        "outputId": "e934b8c9-6da2-4014-9834-9381f1ceecc7"
      },
      "outputs": [
        {
          "output_type": "execute_result",
          "data": {
            "text/plain": [
              "(8000, 2)"
            ]
          },
          "metadata": {},
          "execution_count": 63
        }
      ],
      "source": [
        "train_X_tsne.shape"
      ]
    },
    {
      "cell_type": "code",
      "execution_count": null,
      "id": "75dd6b1e",
      "metadata": {
        "id": "75dd6b1e"
      },
      "outputs": [],
      "source": []
    }
  ],
  "metadata": {
    "kernelspec": {
      "display_name": "Python 3 (ipykernel)",
      "language": "python",
      "name": "python3"
    },
    "language_info": {
      "codemirror_mode": {
        "name": "ipython",
        "version": 3
      },
      "file_extension": ".py",
      "mimetype": "text/x-python",
      "name": "python",
      "nbconvert_exporter": "python",
      "pygments_lexer": "ipython3",
      "version": "3.9.12"
    },
    "colab": {
      "provenance": []
    }
  },
  "nbformat": 4,
  "nbformat_minor": 5
}